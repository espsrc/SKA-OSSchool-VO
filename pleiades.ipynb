{
 "cells": [
  {
   "cell_type": "markdown",
   "id": "5920a8f7",
   "metadata": {},
   "source": [
    "# Severo Ochoa SKA Open Science School"
   ]
  },
  {
   "cell_type": "markdown",
   "id": "816abc23",
   "metadata": {},
   "source": [
    "<HR size=1>"
   ]
  },
  {
   "cell_type": "markdown",
   "id": "36aa0aa3",
   "metadata": {
    "tags": []
   },
   "source": [
    "## The Virtual Observatory"
   ]
  },
  {
   "cell_type": "markdown",
   "id": "b30fa0e8",
   "metadata": {},
   "source": [
    "Jesús Salgado - SKA Regional Centre Network Architect"
   ]
  },
  {
   "cell_type": "code",
   "execution_count": null,
   "id": "da7bdf13",
   "metadata": {
    "tags": []
   },
   "outputs": [],
   "source": [
    "!pip install astropy astroquery pyVO numpy matplotlib pandas statistics"
   ]
  },
  {
   "cell_type": "code",
   "execution_count": null,
   "id": "8f249957",
   "metadata": {},
   "outputs": [],
   "source": [
    "from astropy.table import Table\n",
    "import astropy.units as u\n",
    "import pyvo as vo\n",
    "import numpy as np\n",
    "import matplotlib.pyplot as plt"
   ]
  },
  {
   "cell_type": "markdown",
   "id": "ecff460e-2d42-4106-867a-1ef8ebda0cbb",
   "metadata": {},
   "source": [
    "There are many useful astronomical methods in astropy. For example to resolve the coordinates of a certain target name, Simbad could be used directly in the code and SkyCoord could be used to convert coordinates systems"
   ]
  },
  {
   "cell_type": "code",
   "execution_count": null,
   "id": "9bfb1949",
   "metadata": {
    "tags": []
   },
   "outputs": [],
   "source": [
    "from astropy.coordinates import SkyCoord\n",
    "from astroquery.simbad import Simbad\n",
    "result_table = Simbad.query_object(\"Pleiades\")\n",
    "c = SkyCoord(result_table['RA'], result_table['DEC'], unit=(u.hourangle, u.deg), frame='icrs')\n",
    "radius  = 1.0                     # Degrees\n",
    "inp_ra  = str(c.ra.degree[0])     # Degrees\n",
    "inp_dec = str(c.dec.degree[0])    # Degrees"
   ]
  },
  {
   "cell_type": "markdown",
   "id": "619b6742-058a-48d1-ab64-baeaa71e7967",
   "metadata": {},
   "source": [
    "Now, we can use pyVO TAPService to query the Gaia TAP Service on sources around the Pleiades position"
   ]
  },
  {
   "cell_type": "code",
   "execution_count": null,
   "id": "cba26dd5",
   "metadata": {
    "tags": []
   },
   "outputs": [],
   "source": [
    "tap_service = vo.dal.TAPService(\"https://gea.esac.esa.int/tap-server/tap/\")\n",
    "\n",
    "query = f\"SELECT source_id,ra,dec,pmra,pmdec,parallax FROM gaiadr3.gaia_source_lite \\\n",
    "WHERE 1=CONTAINS(POINT({inp_ra}, {inp_dec}),CIRCLE(ra, dec, {radius})) and parallax_over_error > 10\"\n",
    "\n",
    "results = tap_service.run_sync(query)\n",
    "print(results)"
   ]
  },
  {
   "cell_type": "markdown",
   "id": "0d412ff4-d818-422e-b630-fe5605b6a37f",
   "metadata": {},
   "source": [
    "We represent the proper motions in ra and dec to identify comoving objects"
   ]
  },
  {
   "cell_type": "code",
   "execution_count": null,
   "id": "18d7a6a4",
   "metadata": {},
   "outputs": [],
   "source": [
    "plt.scatter(results['pmra'], results['pmdec'], s=1)\n",
    "z_fac = 140   # Zoom-in factor\n",
    "plt.xlim([-z_fac,z_fac])\n",
    "plt.ylim([-z_fac,z_fac])\n",
    "\n",
    "plt.show()"
   ]
  },
  {
   "cell_type": "markdown",
   "id": "0019b972-c4f1-425d-8113-413c81d36df6",
   "metadata": {
    "tags": []
   },
   "source": [
    "There is a second cluster of sources so we represent only the ones close to this pmra/pmdec position.\n",
    "We could refine the limits in the next point"
   ]
  },
  {
   "cell_type": "code",
   "execution_count": null,
   "id": "79ce76f1",
   "metadata": {
    "tags": []
   },
   "outputs": [],
   "source": [
    "plt.scatter(results['pmra'], results['pmdec'], s=1)\n",
    "plt.xlim(18,22)\n",
    "plt.ylim(-43,-48)\n",
    "\n",
    "plt.show()"
   ]
  },
  {
   "cell_type": "markdown",
   "id": "d5977720-0bc9-44b6-b241-00a958388422",
   "metadata": {},
   "source": [
    "Using this info, we can refine the query to select the Pleiades sources"
   ]
  },
  {
   "cell_type": "code",
   "execution_count": null,
   "id": "bfe46956",
   "metadata": {
    "tags": []
   },
   "outputs": [],
   "source": [
    "query = f\"SELECT source_id,ra,dec,pmra,pmdec,parallax FROM gaiadr3.gaia_source_lite \\\n",
    "WHERE 1=CONTAINS(POINT({inp_ra}, {inp_dec}),CIRCLE(ra, dec, {radius})) and parallax_over_error > 10 and \\\n",
    "pmra > 18 and pmra < 22 and pmdec > -48 and pmdec < -43\"\n",
    "\n",
    "results = tap_service.run_sync(query)\n",
    "print(results)"
   ]
  },
  {
   "cell_type": "markdown",
   "id": "b5f2f415-259c-4be9-9f87-c5b16b084599",
   "metadata": {},
   "source": [
    "We represent the parallax of tht selected sources"
   ]
  },
  {
   "cell_type": "code",
   "execution_count": null,
   "id": "39b2e4b7",
   "metadata": {
    "tags": []
   },
   "outputs": [],
   "source": [
    "plt.hist(results['parallax'],100)\n",
    "plt.show()"
   ]
  },
  {
   "cell_type": "markdown",
   "id": "56e2865b-be14-42ce-a7d7-3b541627dc3b",
   "metadata": {},
   "source": [
    "We can refine the query excluding outliers (outside Pleiades cluster)"
   ]
  },
  {
   "cell_type": "code",
   "execution_count": null,
   "id": "3708a874",
   "metadata": {
    "tags": []
   },
   "outputs": [],
   "source": [
    "query = f\"SELECT source_id,ra,dec,pmra,pmdec,parallax FROM gaiadr3.gaia_source_lite \\\n",
    "WHERE 1=CONTAINS(POINT({inp_ra}, {inp_dec}),CIRCLE(ra, dec, {radius})) and parallax_over_error > 10 and \\\n",
    "pmra > 18 and pmra < 22 and pmdec > -48 and pmdec < -43 and \\\n",
    "parallax > 6.5 and parallax < 8\"\n",
    "\n",
    "results = tap_service.run_sync(query)\n",
    "print(results)"
   ]
  },
  {
   "cell_type": "code",
   "execution_count": null,
   "id": "dc96c5da",
   "metadata": {
    "tags": []
   },
   "outputs": [],
   "source": [
    "plt.hist(results['parallax'],100)\n",
    "plt.show()"
   ]
  },
  {
   "cell_type": "markdown",
   "id": "00924397-d99d-40ea-a5bb-b35569018be5",
   "metadata": {},
   "source": [
    "Now that we are happy with the selection, we can calculate the parallax"
   ]
  },
  {
   "cell_type": "code",
   "execution_count": null,
   "id": "92b2c08a",
   "metadata": {
    "tags": []
   },
   "outputs": [],
   "source": [
    "from statistics import mean\n",
    "list_avg = mean(results['parallax']) \n",
    "print(list_avg)"
   ]
  },
  {
   "cell_type": "code",
   "execution_count": null,
   "id": "851faa87",
   "metadata": {},
   "outputs": [],
   "source": []
  }
 ],
 "metadata": {
  "kernelspec": {
   "display_name": "Python 3 (ipykernel)",
   "language": "python",
   "name": "python3"
  },
  "language_info": {
   "codemirror_mode": {
    "name": "ipython",
    "version": 3
   },
   "file_extension": ".py",
   "mimetype": "text/x-python",
   "name": "python",
   "nbconvert_exporter": "python",
   "pygments_lexer": "ipython3",
   "version": "3.10.10"
  }
 },
 "nbformat": 4,
 "nbformat_minor": 5
}
