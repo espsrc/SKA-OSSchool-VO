{
 "cells": [
  {
   "cell_type": "markdown",
   "id": "3f41e162-991a-4fe7-81ef-2df491ccd1a0",
   "metadata": {},
   "source": [
    "# Severo Ochoa SKA Open Science School"
   ]
  },
  {
   "cell_type": "markdown",
   "id": "5dae395b-e361-41fa-95e3-20b4a9f6f61f",
   "metadata": {},
   "source": [
    "<HR size=1>"
   ]
  },
  {
   "cell_type": "markdown",
   "id": "62706314-237e-4116-9257-22f370cdf9fc",
   "metadata": {
    "tags": []
   },
   "source": [
    "## The Virtual Observatory"
   ]
  },
  {
   "cell_type": "markdown",
   "id": "d6137306-0e76-4de5-9e6d-eac55c1ecaa6",
   "metadata": {},
   "source": [
    "Jesús Salgado - SKA Regional Centre Network Architect"
   ]
  },
  {
   "cell_type": "code",
   "execution_count": null,
   "id": "d3cafef2-1f7c-4103-81b7-ddbbe0e85662",
   "metadata": {},
   "outputs": [],
   "source": []
  }
 ],
 "metadata": {
  "kernelspec": {
   "display_name": "Python 3 (ipykernel)",
   "language": "python",
   "name": "python3"
  },
  "language_info": {
   "codemirror_mode": {
    "name": "ipython",
    "version": 3
   },
   "file_extension": ".py",
   "mimetype": "text/x-python",
   "name": "python",
   "nbconvert_exporter": "python",
   "pygments_lexer": "ipython3",
   "version": "3.10.10"
  }
 },
 "nbformat": 4,
 "nbformat_minor": 5
}
